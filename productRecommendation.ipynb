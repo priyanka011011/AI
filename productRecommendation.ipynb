{
  "cells": [
    {
      "cell_type": "markdown",
      "metadata": {
        "id": "view-in-github",
        "colab_type": "text"
      },
      "source": [
        "<a href=\"https://colab.research.google.com/github/priyanka011011/AI/blob/master/productRecommendation.ipynb\" target=\"_parent\"><img src=\"https://colab.research.google.com/assets/colab-badge.svg\" alt=\"Open In Colab\"/></a>"
      ]
    },
    {
      "cell_type": "code",
      "execution_count": 1,
      "metadata": {
        "id": "Xrkl3eKMVLty"
      },
      "outputs": [],
      "source": [
        "#Basic Libraries\n",
        "import numpy as np\n",
        "import pandas as pd\n",
        "\n",
        "#Visualization Libraries\n",
        "import matplotlib.pyplot as plt\n",
        "import seaborn as sns\n",
        "import plotly.express as px\n",
        "\n",
        "#Text Handling Libraries\n",
        "import re\n",
        "from sklearn.feature_extraction.text import TfidfVectorizer, CountVectorizer\n",
        "from sklearn.metrics.pairwise import linear_kernel, cosine_similarity"
      ]
    },
    {
      "cell_type": "markdown",
      "metadata": {
        "id": "ywf_iGDOWZIi"
      },
      "source": [
        "Importing the Dataset"
      ]
    },
    {
      "cell_type": "code",
      "execution_count": null,
      "metadata": {
        "colab": {
          "background_save": true,
          "base_uri": "https://localhost:8080/",
          "height": 56
        },
        "id": "Zi04Ol2Pj47L",
        "outputId": "de191b9d-0873-4bda-f00a-03792ca5cc9a"
      },
      "outputs": [
        {
          "output_type": "display_data",
          "data": {
            "text/plain": [
              "<IPython.core.display.HTML object>"
            ],
            "text/html": [
              "\n",
              "     <input type=\"file\" id=\"files-088a8243-15e2-49f1-b9a5-406be21e1e78\" name=\"files[]\" multiple disabled\n",
              "        style=\"border:none\" />\n",
              "     <output id=\"result-088a8243-15e2-49f1-b9a5-406be21e1e78\">\n",
              "      Upload widget is only available when the cell has been executed in the\n",
              "      current browser session. Please rerun this cell to enable.\n",
              "      </output>\n",
              "      <script>// Copyright 2017 Google LLC\n",
              "//\n",
              "// Licensed under the Apache License, Version 2.0 (the \"License\");\n",
              "// you may not use this file except in compliance with the License.\n",
              "// You may obtain a copy of the License at\n",
              "//\n",
              "//      http://www.apache.org/licenses/LICENSE-2.0\n",
              "//\n",
              "// Unless required by applicable law or agreed to in writing, software\n",
              "// distributed under the License is distributed on an \"AS IS\" BASIS,\n",
              "// WITHOUT WARRANTIES OR CONDITIONS OF ANY KIND, either express or implied.\n",
              "// See the License for the specific language governing permissions and\n",
              "// limitations under the License.\n",
              "\n",
              "/**\n",
              " * @fileoverview Helpers for google.colab Python module.\n",
              " */\n",
              "(function(scope) {\n",
              "function span(text, styleAttributes = {}) {\n",
              "  const element = document.createElement('span');\n",
              "  element.textContent = text;\n",
              "  for (const key of Object.keys(styleAttributes)) {\n",
              "    element.style[key] = styleAttributes[key];\n",
              "  }\n",
              "  return element;\n",
              "}\n",
              "\n",
              "// Max number of bytes which will be uploaded at a time.\n",
              "const MAX_PAYLOAD_SIZE = 100 * 1024;\n",
              "\n",
              "function _uploadFiles(inputId, outputId) {\n",
              "  const steps = uploadFilesStep(inputId, outputId);\n",
              "  const outputElement = document.getElementById(outputId);\n",
              "  // Cache steps on the outputElement to make it available for the next call\n",
              "  // to uploadFilesContinue from Python.\n",
              "  outputElement.steps = steps;\n",
              "\n",
              "  return _uploadFilesContinue(outputId);\n",
              "}\n",
              "\n",
              "// This is roughly an async generator (not supported in the browser yet),\n",
              "// where there are multiple asynchronous steps and the Python side is going\n",
              "// to poll for completion of each step.\n",
              "// This uses a Promise to block the python side on completion of each step,\n",
              "// then passes the result of the previous step as the input to the next step.\n",
              "function _uploadFilesContinue(outputId) {\n",
              "  const outputElement = document.getElementById(outputId);\n",
              "  const steps = outputElement.steps;\n",
              "\n",
              "  const next = steps.next(outputElement.lastPromiseValue);\n",
              "  return Promise.resolve(next.value.promise).then((value) => {\n",
              "    // Cache the last promise value to make it available to the next\n",
              "    // step of the generator.\n",
              "    outputElement.lastPromiseValue = value;\n",
              "    return next.value.response;\n",
              "  });\n",
              "}\n",
              "\n",
              "/**\n",
              " * Generator function which is called between each async step of the upload\n",
              " * process.\n",
              " * @param {string} inputId Element ID of the input file picker element.\n",
              " * @param {string} outputId Element ID of the output display.\n",
              " * @return {!Iterable<!Object>} Iterable of next steps.\n",
              " */\n",
              "function* uploadFilesStep(inputId, outputId) {\n",
              "  const inputElement = document.getElementById(inputId);\n",
              "  inputElement.disabled = false;\n",
              "\n",
              "  const outputElement = document.getElementById(outputId);\n",
              "  outputElement.innerHTML = '';\n",
              "\n",
              "  const pickedPromise = new Promise((resolve) => {\n",
              "    inputElement.addEventListener('change', (e) => {\n",
              "      resolve(e.target.files);\n",
              "    });\n",
              "  });\n",
              "\n",
              "  const cancel = document.createElement('button');\n",
              "  inputElement.parentElement.appendChild(cancel);\n",
              "  cancel.textContent = 'Cancel upload';\n",
              "  const cancelPromise = new Promise((resolve) => {\n",
              "    cancel.onclick = () => {\n",
              "      resolve(null);\n",
              "    };\n",
              "  });\n",
              "\n",
              "  // Wait for the user to pick the files.\n",
              "  const files = yield {\n",
              "    promise: Promise.race([pickedPromise, cancelPromise]),\n",
              "    response: {\n",
              "      action: 'starting',\n",
              "    }\n",
              "  };\n",
              "\n",
              "  cancel.remove();\n",
              "\n",
              "  // Disable the input element since further picks are not allowed.\n",
              "  inputElement.disabled = true;\n",
              "\n",
              "  if (!files) {\n",
              "    return {\n",
              "      response: {\n",
              "        action: 'complete',\n",
              "      }\n",
              "    };\n",
              "  }\n",
              "\n",
              "  for (const file of files) {\n",
              "    const li = document.createElement('li');\n",
              "    li.append(span(file.name, {fontWeight: 'bold'}));\n",
              "    li.append(span(\n",
              "        `(${file.type || 'n/a'}) - ${file.size} bytes, ` +\n",
              "        `last modified: ${\n",
              "            file.lastModifiedDate ? file.lastModifiedDate.toLocaleDateString() :\n",
              "                                    'n/a'} - `));\n",
              "    const percent = span('0% done');\n",
              "    li.appendChild(percent);\n",
              "\n",
              "    outputElement.appendChild(li);\n",
              "\n",
              "    const fileDataPromise = new Promise((resolve) => {\n",
              "      const reader = new FileReader();\n",
              "      reader.onload = (e) => {\n",
              "        resolve(e.target.result);\n",
              "      };\n",
              "      reader.readAsArrayBuffer(file);\n",
              "    });\n",
              "    // Wait for the data to be ready.\n",
              "    let fileData = yield {\n",
              "      promise: fileDataPromise,\n",
              "      response: {\n",
              "        action: 'continue',\n",
              "      }\n",
              "    };\n",
              "\n",
              "    // Use a chunked sending to avoid message size limits. See b/62115660.\n",
              "    let position = 0;\n",
              "    do {\n",
              "      const length = Math.min(fileData.byteLength - position, MAX_PAYLOAD_SIZE);\n",
              "      const chunk = new Uint8Array(fileData, position, length);\n",
              "      position += length;\n",
              "\n",
              "      const base64 = btoa(String.fromCharCode.apply(null, chunk));\n",
              "      yield {\n",
              "        response: {\n",
              "          action: 'append',\n",
              "          file: file.name,\n",
              "          data: base64,\n",
              "        },\n",
              "      };\n",
              "\n",
              "      let percentDone = fileData.byteLength === 0 ?\n",
              "          100 :\n",
              "          Math.round((position / fileData.byteLength) * 100);\n",
              "      percent.textContent = `${percentDone}% done`;\n",
              "\n",
              "    } while (position < fileData.byteLength);\n",
              "  }\n",
              "\n",
              "  // All done.\n",
              "  yield {\n",
              "    response: {\n",
              "      action: 'complete',\n",
              "    }\n",
              "  };\n",
              "}\n",
              "\n",
              "scope.google = scope.google || {};\n",
              "scope.google.colab = scope.google.colab || {};\n",
              "scope.google.colab._files = {\n",
              "  _uploadFiles,\n",
              "  _uploadFilesContinue,\n",
              "};\n",
              "})(self);\n",
              "</script> "
            ]
          },
          "metadata": {}
        }
      ],
      "source": [
        "from google.colab import files\n",
        "files.upload() \n"
      ]
    },
    {
      "cell_type": "code",
      "execution_count": null,
      "metadata": {
        "id": "HcVbAZifcXVf"
      },
      "outputs": [],
      "source": [
        "df = pd.read_csv('BigBasketProducts.csv',index_col='index')  \n",
        "df.head()                                                "
      ]
    },
    {
      "cell_type": "code",
      "execution_count": null,
      "metadata": {
        "id": "Qq-UyS-RhVlB"
      },
      "outputs": [],
      "source": [
        "df.shape "
      ]
    },
    {
      "cell_type": "code",
      "execution_count": null,
      "metadata": {
        "id": "Mb_9ABy6dIOj"
      },
      "outputs": [],
      "source": [
        "df.head() "
      ]
    },
    {
      "cell_type": "code",
      "execution_count": null,
      "metadata": {
        "id": "R5hK4BwueRjV"
      },
      "outputs": [],
      "source": [
        "df.isnull().sum() "
      ]
    },
    {
      "cell_type": "code",
      "execution_count": null,
      "metadata": {
        "id": "Pz8iCzE1eknm"
      },
      "outputs": [],
      "source": [
        "print('Percentage Null Data In Each Column')\n",
        "print('-'*50)\n",
        "for col in df.columns:\n",
        "    null_count = df[col].isnull().sum()\n",
        "    total_count = df.shape[0]\n",
        "    print(\"{} : {:.2f}\".format(col,null_count/total_count * 100))"
      ]
    },
    {
      "cell_type": "code",
      "execution_count": null,
      "metadata": {
        "id": "-9SzLXEBrVWZ"
      },
      "outputs": [],
      "source": [
        "print('Total Null Data')\n",
        "null_count = df.isnull().sum().sum()\n",
        "total_count = np.product(df.shape)\n",
        "print(\"{:.2f}\".format(null_count/total_count *100))"
      ]
    },
    {
      "cell_type": "markdown",
      "metadata": {
        "id": "3s686QqPtASv"
      },
      "source": [
        "We observe that 3% of the data is null and 31% of the rating is missing. So, we drop the null values and work with the remaining 69% data."
      ]
    },
    {
      "cell_type": "code",
      "execution_count": null,
      "metadata": {
        "id": "bC8MNWuAtVvI"
      },
      "outputs": [],
      "source": [
        "df = df.dropna()"
      ]
    },
    {
      "cell_type": "code",
      "execution_count": null,
      "metadata": {
        "id": "FYQhSf9LthfL"
      },
      "outputs": [],
      "source": [
        "df.isnull().sum()"
      ]
    },
    {
      "cell_type": "code",
      "execution_count": null,
      "metadata": {
        "id": "J9hRcqNPtkga"
      },
      "outputs": [],
      "source": [
        "df.shape"
      ]
    },
    {
      "cell_type": "markdown",
      "metadata": {
        "id": "kdoR-Qu_tvcC"
      },
      "source": [
        "Now, we can form the recommendation system using 18000+ products which is enough."
      ]
    },
    {
      "cell_type": "code",
      "execution_count": null,
      "metadata": {
        "id": "t3oQJV2Qw4Gj"
      },
      "outputs": [],
      "source": [
        "df.head()"
      ]
    },
    {
      "cell_type": "code",
      "execution_count": null,
      "metadata": {
        "id": "FJHsKT2Bw6Ay"
      },
      "outputs": [],
      "source": [
        "counts = df['category'].value_counts()\n",
        "counts_df = pd.DataFrame({'category': counts.index, 'counts': counts.values})\n",
        "counts_df"
      ]
    },
    {
      "cell_type": "code",
      "execution_count": null,
      "metadata": {
        "id": "S4zAn9YTxLKa"
      },
      "outputs": [],
      "source": [
        "px.bar(data_frame=counts_df,\n",
        " x='category',\n",
        " y='counts',\n",
        " color='counts',\n",
        " color_continuous_scale='reds',\n",
        " text_auto=True,\n",
        " title=f'Count of Items in Each Category')"
      ]
    },
    {
      "cell_type": "code",
      "execution_count": null,
      "metadata": {
        "id": "YVnGs6hQz1f4"
      },
      "outputs": [],
      "source": [
        "counts = df['sub_category'].value_counts()\n",
        "\n",
        "counts_df_1 = pd.DataFrame({'Category':counts.index,'Counts':counts.values})[:10]\n"
      ]
    },
    {
      "cell_type": "code",
      "execution_count": null,
      "metadata": {
        "id": "VEDwbkXM084H"
      },
      "outputs": [],
      "source": [
        "px.bar(data_frame=counts_df_1,\n",
        " x='Category',\n",
        " y='Counts',\n",
        " color='Counts',\n",
        " color_continuous_scale='greens',\n",
        " text_auto=True,\n",
        " title=f'Top 10 Bought Sub_Categories')"
      ]
    },
    {
      "cell_type": "code",
      "execution_count": null,
      "metadata": {
        "id": "98T5_N1C3P-Q"
      },
      "outputs": [],
      "source": [
        "counts = df['brand'].value_counts()\n",
        "\n",
        "counts_df_brand = pd.DataFrame({'Brand Name':counts.index,'Counts':counts.values})[:10]"
      ]
    },
    {
      "cell_type": "code",
      "execution_count": null,
      "metadata": {
        "id": "5RCiwnaj1dU4"
      },
      "outputs": [],
      "source": [
        "px.bar(data_frame=counts_df_brand,\n",
        " x='Brand Name',\n",
        " y='Counts',\n",
        " color='Counts',\n",
        " color_continuous_scale='blues',\n",
        " text_auto=True,\n",
        " title=f'Top 10 Brand Items based on Item Counts')"
      ]
    },
    {
      "cell_type": "code",
      "execution_count": null,
      "metadata": {
        "id": "-2leNExy2-g9"
      },
      "outputs": [],
      "source": [
        "counts = df['type'].value_counts()\n",
        "\n",
        "counts_df_type = pd.DataFrame({'Type':counts.index,'Counts':counts.values})[:10] "
      ]
    },
    {
      "cell_type": "code",
      "execution_count": null,
      "metadata": {
        "id": "SY2_crzVSBiV"
      },
      "outputs": [],
      "source": [
        "px.bar(data_frame=counts_df_type,\n",
        " x='Type',\n",
        " y='Counts',\n",
        " color='Counts',\n",
        " color_continuous_scale='blues',\n",
        " text_auto=True,\n",
        " title=f'Top 10 Types of Products based on Item Counts')"
      ]
    },
    {
      "cell_type": "code",
      "execution_count": null,
      "metadata": {
        "id": "IS4TBZPsU-Dq"
      },
      "outputs": [],
      "source": [
        "def sort_recommendor(col='rating',sort_type = False):\n",
        "    \"\"\"\n",
        "    A recommendor based on sorting products on the column passed.\n",
        "    Arguments to be passed:\n",
        "    \n",
        "    col: The Feature to be used for recommendation.\n",
        "    sort_type: True for Ascending Order\n",
        "    \"\"\"                                                                          \n",
        "    rated_recommend = df.copy()                                                  \n",
        "    if rated_recommend[col].dtype == 'O':                                        \n",
        "        col='rating'\n",
        "    rated_recommend = rated_recommend.sort_values(by=col,ascending = sort_type)  \n",
        "    return rated_recommend[['product','brand','sale_price','rating']].head(10)     "
      ]
    },
    {
      "cell_type": "code",
      "execution_count": null,
      "metadata": {
        "id": "03fWQrehaCWn"
      },
      "outputs": [],
      "source": [
        "help(sort_recommendor)"
      ]
    },
    {
      "cell_type": "code",
      "execution_count": null,
      "metadata": {
        "id": "ezXZP-xGgXiW"
      },
      "outputs": [],
      "source": [
        "sort_recommendor(col='sale_price',sort_type=True)                 "
      ]
    },
    {
      "cell_type": "code",
      "execution_count": null,
      "metadata": {
        "id": "0t0frTAJh5jt"
      },
      "outputs": [],
      "source": [
        "R= df['rating'].mean()              \n",
        "R                              "
      ]
    },
    {
      "cell_type": "code",
      "execution_count": null,
      "metadata": {
        "id": "jF0ZrKzaj7uB"
      },
      "outputs": [],
      "source": [
        "def sort_recommendor(col='rating',sort_type = False):\n",
        "    \"\"\"\n",
        "    A recommendor based on sorting products on the column passed.\n",
        "    Arguments to be passed:\n",
        "    \n",
        "    col: The Feature to be used for recommendation.\n",
        "    sort_type: True for Ascending Order\n",
        "    \"\"\"\n",
        "    rated_recommend = df.copy().loc[df['rating'] >= 3.5]\n",
        "    if rated_recommend[col].dtype == 'O':\n",
        "        col='rating'\n",
        "    rated_recommend = rated_recommend.sort_values(by=col,ascending = sort_type)\n",
        "    return rated_recommend[['product','brand','sale_price','rating']].head(10)"
      ]
    },
    {
      "cell_type": "code",
      "execution_count": null,
      "metadata": {
        "id": "qslqbqaDkGHX"
      },
      "outputs": [],
      "source": [
        "sort_recommendor(col='sale_price',sort_type=True)                                   "
      ]
    },
    {
      "cell_type": "code",
      "execution_count": null,
      "metadata": {
        "id": "2eDp8ljdkNE-"
      },
      "outputs": [],
      "source": [
        "df.head()  "
      ]
    },
    {
      "cell_type": "code",
      "execution_count": null,
      "metadata": {
        "id": "diJ2iXo0klY0"
      },
      "outputs": [],
      "source": []
    }
  ],
  "metadata": {
    "colab": {
      "provenance": [],
      "authorship_tag": "ABX9TyPxaLdDEuqtuNJjtd9u1dVx",
      "include_colab_link": true
    },
    "kernelspec": {
      "display_name": "Python 3",
      "name": "python3"
    },
    "language_info": {
      "name": "python"
    }
  },
  "nbformat": 4,
  "nbformat_minor": 0
}